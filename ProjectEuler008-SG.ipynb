{
 "cells": [
  {
   "cell_type": "markdown",
   "metadata": {},
   "source": [
    "##### Testo ProjectEuler 007\n",
    "\n",
    "By listing the first six prime numbers: 2, 3, 5, 7, 11, and 13, we can see that the 6th prime is 13.\n",
    "\n",
    "What is the 10001st prime number?\n"
   ]
  },
  {
   "cell_type": "code",
   "execution_count": null,
   "metadata": {},
   "outputs": [],
   "source": [
    "#funzione numeri primi\n",
    "def primo(a):\n",
    "    b = 9\n",
    "    if (a==1 or a==2 or a ==3 or a ==5 or a ==7):\n",
    "        return True\n",
    "    while b < a:\n",
    "        if  a%2 == 0:\n",
    "            return False  \n",
    "        if  a%3 == 0:\n",
    "            return False \n",
    "        if  a%5 == 0:\n",
    "            return False\n",
    "        if  a%7 == 0:\n",
    "            return False  \n",
    "        if  a%b == 0:\n",
    "            return False\n",
    "        b = b + 2\n",
    "        if b > a//2:\n",
    "            return True\n",
    "\n",
    "import time\n",
    "\n",
    "#prestazione tempo        \n",
    "start = time.time()   \n",
    "\n",
    "PosizionePrimo = 6\n",
    "NumeroPrimo = 15\n",
    "\n",
    "while PosizionePrimo < 10001:\n",
    "    if primo(NumeroPrimo):\n",
    "        #print(PosizionePrimo)\n",
    "        PosizionePrimo = PosizionePrimo +1\n",
    "    NumeroPrimo = NumeroPrimo + 2\n",
    "    if PosizionePrimo == 10001:\n",
    "        print(\"il 10.001 primo è \" + str(NumeroPrimo-2))\n",
    "\n",
    "end = time.time()\n",
    "print(end - start)\n",
    "    "
   ]
  },
  {
   "cell_type": "markdown",
   "metadata": {},
   "source": [
    "Corretto!"
   ]
  },
  {
   "cell_type": "code",
   "execution_count": null,
   "metadata": {
    "collapsed": true
   },
   "outputs": [],
   "source": []
  }
 ],
 "metadata": {
  "anaconda-cloud": {},
  "kernelspec": {
   "display_name": "Python [default]",
   "language": "python",
   "name": "python3"
  }
 },
 "nbformat": 4,
 "nbformat_minor": 2
}
