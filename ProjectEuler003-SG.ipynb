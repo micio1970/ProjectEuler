{
 "cells": [
  {
   "cell_type": "markdown",
   "metadata": {},
   "source": [
    "### Testo ProjectEuler 003\n",
    "\n",
    "The prime factors of 13195 are 5, 7, 13 and 29.\n",
    "\n",
    "What is the largest prime factor of the number 600851475143 ?"
   ]
  },
  {
   "cell_type": "code",
   "execution_count": 182,
   "metadata": {},
   "outputs": [
    {
     "name": "stdout",
     "output_type": "stream",
     "text": [
      "True\n",
      "0.0005245208740234375\n",
      "Il massimo divisore primo è 6857\n",
      "il tempo per calcolare è stato di 0.493 secondi\n"
     ]
    }
   ],
   "source": [
    "import time\n",
    "\n",
    "#funzione numeri primi\n",
    "def primo(a):\n",
    "    b = 9\n",
    "    if (a==1 or a==2 or a ==3 or a ==5 or a ==7):\n",
    "        return True\n",
    "    while b < a:\n",
    "        if  a%2 == 0:\n",
    "            return False  \n",
    "        if  a%3 == 0:\n",
    "            return False \n",
    "        if  a%5 == 0:\n",
    "            return False\n",
    "        if  a%7 == 0:\n",
    "            return False  \n",
    "        if  a%b == 0:\n",
    "            return False\n",
    "        b = b + 2\n",
    "        if b > a//2:\n",
    "            return True\n",
    "\n",
    "#prestazione funzione numeri primi        \n",
    "start = time.time()        \n",
    "print(primo(41))    \n",
    "end = time.time()\n",
    "print(end - start)\n",
    "\n",
    "#problema eulero numero 3\n",
    "start = time.time() \n",
    "fine =  600851475143 \n",
    "#fine =      13195\n",
    "max_primo = 1\n",
    "number = 2\n",
    "while fine > max_primo:\n",
    "    if primo(number) == True:\n",
    "        if fine%number == 0:\n",
    "            max_primo = number\n",
    "            fine = (fine//number)\n",
    "    number = number + 1\n",
    "print(\"Il massimo divisore primo è \" + str(max_primo))\n",
    "end = time.time()\n",
    "print(\"il tempo per calcolare è stato di \" + '{:.3f}'.format(end - start)  + \" secondi\")\n",
    "\n",
    "\n",
    "\n",
    "\n"
   ]
  },
  {
   "cell_type": "markdown",
   "metadata": {
    "collapsed": true
   },
   "source": [
    "Corretto!"
   ]
  },
  {
   "cell_type": "code",
   "execution_count": null,
   "metadata": {
    "collapsed": true
   },
   "outputs": [],
   "source": []
  }
 ],
 "metadata": {
  "anaconda-cloud": {},
  "kernelspec": {
   "display_name": "Python [default]",
   "language": "python",
   "name": "python3"
  },
  "language_info": {
   "codemirror_mode": {
    "name": "ipython",
    "version": 3
   },
   "file_extension": ".py",
   "mimetype": "text/x-python",
   "name": "python",
   "nbconvert_exporter": "python",
   "pygments_lexer": "ipython3",
   "version": "3.5.3"
  }
 },
 "nbformat": 4,
 "nbformat_minor": 2
}
