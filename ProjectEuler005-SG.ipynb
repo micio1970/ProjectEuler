{
 "cells": [
  {
   "cell_type": "markdown",
   "metadata": {},
   "source": [
    "##### Testo ProjectEuler 005\n",
    "\n",
    "\n",
    "2520 is the smallest number that can be divided by each of the numbers from 1 to 10 without any remainder.\n",
    "\n",
    "What is the smallest positive number that is evenly divisible by all of the numbers from 1 to 20?\n",
    "\n"
   ]
  },
  {
   "cell_type": "code",
   "execution_count": 14,
   "metadata": {},
   "outputs": [
    {
     "name": "stdout",
     "output_type": "stream",
     "text": [
      "il numero è 232792560\n",
      "14.010672807693481\n"
     ]
    }
   ],
   "source": [
    "import time\n",
    "\n",
    "#prestazione tempo        \n",
    "start = time.time()        \n",
    "   \n",
    "\n",
    "\n",
    "min = 0\n",
    "number = 40\n",
    "while min < 1:\n",
    "    for a in range(1,21):\n",
    "        if number%a != 0:\n",
    "            number+=20\n",
    "            #print(number)\n",
    "            break\n",
    "        else:\n",
    "            if a == 20:\n",
    "                min = number\n",
    "                print(\"il numero è \" + str(number))\n",
    "                \n",
    "end = time.time()\n",
    "print(end - start)\n",
    "    "
   ]
  },
  {
   "cell_type": "markdown",
   "metadata": {},
   "source": [
    "Corretto!"
   ]
  },
  {
   "cell_type": "code",
   "execution_count": null,
   "metadata": {
    "collapsed": true
   },
   "outputs": [],
   "source": []
  }
 ],
 "metadata": {
  "anaconda-cloud": {},
  "kernelspec": {
   "display_name": "Python [default]",
   "language": "python",
   "name": "python3"
  },
  "language_info": {
   "codemirror_mode": {
    "name": "ipython",
    "version": 3
   },
   "file_extension": ".py",
   "mimetype": "text/x-python",
   "name": "python",
   "nbconvert_exporter": "python",
   "pygments_lexer": "ipython3",
   "version": "3.5.3"
  }
 },
 "nbformat": 4,
 "nbformat_minor": 2
}
